{
 "cells": [
  {
   "cell_type": "code",
   "execution_count": 1,
   "id": "7448a9f1",
   "metadata": {},
   "outputs": [],
   "source": [
    "# from pip._internal import main as pipmain\n",
    "# pipmain(['install','openpyxl'])\n",
    "#use ! before pip\n",
    "# !pip install scipy\n",
    "# !pip install matplotlib\n",
    "\n",
    "from tkinter import *\n",
    "from tkinter import ttk\n",
    "\n",
    "from tkinter import font\n",
    "import pandas as pd\n",
    "import numpy as np\n",
    "\n",
    "import Factors as fc\n",
    "import TableWid as tb\n",
    "import RisksWid as rk\n",
    "\n",
    "import ctypes\n",
    "###################################################\n",
    "## Show all columns\n",
    "pd.set_option(\"display.max.columns\", None)\n",
    "avs_matrix = np.zeros((4,4))\n",
    "\n",
    "## default input data\n",
    "max_score = 1\n",
    "bin_number = 5\n",
    "threshold_percent = 0.6\n",
    "pareto_percent = 0.25\n",
    "input_list = [max_score, bin_number, threshold_percent, pareto_percent]\n",
    "\n"
   ]
  },
  {
   "cell_type": "code",
   "execution_count": 2,
   "id": "47cf79d9",
   "metadata": {},
   "outputs": [],
   "source": [
    "def checking(root):\n",
    "    try:\n",
    "            lbl_header=Label(root, text=\"AVS матрица: \", foreground=\"#555555\", font=(\"Times New Roman\", 33, \"bold\"), width=22, height=2)\n",
    "            lbl_header.pack()\n",
    "            super_frame = Frame(root)\n",
    "            super_frame.pack()\n",
    "            #### input widgets\n",
    "            tb.placeTableWid(input_list, avs_matrix,  \"EconomicTable.xlsx\", super_frame)\n",
    "\n",
    "            ##########################################################\n",
    "            ###############ВТОРАЯ ЧАСТЬ#############################\n",
    "            #### find nonsistematic coefficient value\n",
    "            Rsist=10.4\n",
    "            risks = fc.Risks(Rsist)\n",
    "            risks.calculate(avs_matrix)\n",
    "            rk.placeRisksWid(risks, super_frame, avs_matrix)\n",
    "             \n",
    "    except Exception as e:\n",
    "             for widget in root.winfo_children():\n",
    "                widget.destroy()\n",
    "             print(e)\n",
    "             root.geometry('900x150+500+500')\n",
    "             lbl=Label(root, text=\"Ошибка: пролема с Excel файлом 'EconomicTable.xlsx'\\n\"+\n",
    "                \"Проверьте есть ли он в текущем каталоге совместно с программой\\n\"+ \n",
    "                \"и правильно ли записано имя файла,\\n а также названия листов файла\", foreground=\"#333333\",\n",
    "                font=(\"Times New Roman\", 18, \"bold\"))\n",
    "             lbl.pack()"
   ]
  },
  {
   "cell_type": "code",
   "execution_count": null,
   "id": "9c541238",
   "metadata": {
    "scrolled": true
   },
   "outputs": [],
   "source": [
    "root = Tk()\n",
    "root.title(\"Матрица 4x4 AVS\")\n",
    "root.geometry('1360x768+100+60')\n",
    "\n",
    "# try:\n",
    "#     img = Image(\"photo\", file=\"matrix.png\", master=root)\n",
    "#     root.tk.call('wm','iconphoto',root._w, img)   \n",
    "# except Exception as e:\n",
    "#     print(e)\n",
    "\n",
    "checking(root)  \n",
    "root.mainloop()\n",
    "                                                            "
   ]
  },
  {
   "cell_type": "code",
   "execution_count": null,
   "id": "bf3a9616",
   "metadata": {},
   "outputs": [],
   "source": [
    "            "
   ]
  }
 ],
 "metadata": {
  "kernelspec": {
   "display_name": "Python 3 (ipykernel)",
   "language": "python",
   "name": "python3"
  },
  "language_info": {
   "codemirror_mode": {
    "name": "ipython",
    "version": 3
   },
   "file_extension": ".py",
   "mimetype": "text/x-python",
   "name": "python",
   "nbconvert_exporter": "python",
   "pygments_lexer": "ipython3",
   "version": "3.8.10"
  }
 },
 "nbformat": 4,
 "nbformat_minor": 5
}
